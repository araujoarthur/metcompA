{
 "cells": [
  {
   "cell_type": "code",
   "execution_count": 4,
   "metadata": {},
   "outputs": [],
   "source": [
    "using DataFrames, PlotlyJS"
   ]
  },
  {
   "cell_type": "code",
   "execution_count": 23,
   "metadata": {},
   "outputs": [
    {
     "data": {
      "text/plain": [
       "CZ (generic function with 1 method)"
      ]
     },
     "execution_count": 23,
     "metadata": {},
     "output_type": "execute_result"
    }
   ],
   "source": [
    "function CX(R::Float64, Ω::Float64, sum::Float64, i::Float64)\n",
    "    return (R * ( ( cosd(Ω) * (cosd(sum)) ) - ( sind(Ω) * (sind(sum)) * cosd(i) ) ))\n",
    "end\n",
    "\n",
    "function CY(R::Float64, Ω::Float64, sum::Float64, i::Float64)\n",
    "    return R * ((sind(Ω) * cosd(sum)) + (cosd(Ω) * sind(sum) * cosd(i)))\n",
    "end\n",
    "\n",
    "function CZ(R::Float64, sum::Float64, i::Float64)\n",
    "    return R * sind(sum) * sind(i)\n",
    "end"
   ]
  },
  {
   "cell_type": "code",
   "execution_count": 15,
   "metadata": {},
   "outputs": [
    {
     "data": {
      "text/html": [
       "<div class=\"data-frame\"><p>8 rows × 6 columns</p><table class=\"data-frame\"><thead><tr><th></th><th>PLANET</th><th>R</th><th>Ω</th><th>i</th><th>ω</th><th>ν</th></tr><tr><th></th><th title=\"String\">String</th><th title=\"Float64\">Float64</th><th title=\"Float64\">Float64</th><th title=\"Float64\">Float64</th><th title=\"Float64\">Float64</th><th title=\"Float64\">Float64</th></tr></thead><tbody><tr><th>1</th><td>Mercury</td><td>6.84698e10</td><td>48.9655</td><td>7.00568</td><td>29.3223</td><td>202.489</td></tr><tr><th>2</th><td>Venus</td><td>1.07602e11</td><td>77.1617</td><td>3.39514</td><td>55.1614</td><td>34.1004</td></tr><tr><th>3</th><td>Earth</td><td>1.52084e11</td><td>0.0</td><td>0.0</td><td>283.861</td><td>174.873</td></tr><tr><th>4</th><td>Mars</td><td>2.49231e11</td><td>49.9699</td><td>1.84935</td><td>287.074</td><td>178.319</td></tr><tr><th>5</th><td>Jupiter</td><td>8.13271e11</td><td>100.995</td><td>1.29996</td><td>274.199</td><td>201.291</td></tr><tr><th>6</th><td>Saturn</td><td>1.45961e12</td><td>114.13</td><td>2.48649</td><td>339.976</td><td>244.635</td></tr><tr><th>7</th><td>Uranus</td><td>2.73642e12</td><td>74.2736</td><td>0.773671</td><td>97.2584</td><td>12.885</td></tr><tr><th>8</th><td>Neptune</td><td>4.45967e12</td><td>132.37</td><td>1.76502</td><td>272.728</td><td>17.6917</td></tr></tbody></table></div>"
      ],
      "text/latex": [
       "\\begin{tabular}{r|cccccc}\n",
       "\t& PLANET & R & Ω & i & ω & ν\\\\\n",
       "\t\\hline\n",
       "\t& String & Float64 & Float64 & Float64 & Float64 & Float64\\\\\n",
       "\t\\hline\n",
       "\t1 & Mercury & 6.84698e10 & 48.9655 & 7.00568 & 29.3223 & 202.489 \\\\\n",
       "\t2 & Venus & 1.07602e11 & 77.1617 & 3.39514 & 55.1614 & 34.1004 \\\\\n",
       "\t3 & Earth & 1.52084e11 & 0.0 & 0.0 & 283.861 & 174.873 \\\\\n",
       "\t4 & Mars & 2.49231e11 & 49.9699 & 1.84935 & 287.074 & 178.319 \\\\\n",
       "\t5 & Jupiter & 8.13271e11 & 100.995 & 1.29996 & 274.199 & 201.291 \\\\\n",
       "\t6 & Saturn & 1.45961e12 & 114.13 & 2.48649 & 339.976 & 244.635 \\\\\n",
       "\t7 & Uranus & 2.73642e12 & 74.2736 & 0.773671 & 97.2584 & 12.885 \\\\\n",
       "\t8 & Neptune & 4.45967e12 & 132.37 & 1.76502 & 272.728 & 17.6917 \\\\\n",
       "\\end{tabular}\n"
      ],
      "text/plain": [
       "\u001b[1m8×6 DataFrame\u001b[0m\n",
       "\u001b[1m Row \u001b[0m│\u001b[1m PLANET  \u001b[0m\u001b[1m R          \u001b[0m\u001b[1m Ω        \u001b[0m\u001b[1m i        \u001b[0m\u001b[1m ω        \u001b[0m\u001b[1m ν        \u001b[0m\n",
       "\u001b[1m     \u001b[0m│\u001b[90m String  \u001b[0m\u001b[90m Float64    \u001b[0m\u001b[90m Float64  \u001b[0m\u001b[90m Float64  \u001b[0m\u001b[90m Float64  \u001b[0m\u001b[90m Float64  \u001b[0m\n",
       "─────┼─────────────────────────────────────────────────────────────\n",
       "   1 │ Mercury  6.84698e10   48.9655  7.00568    29.3223  202.489\n",
       "   2 │ Venus    1.07602e11   77.1617  3.39514    55.1614   34.1004\n",
       "   3 │ Earth    1.52084e11    0.0     0.0       283.861   174.873\n",
       "   4 │ Mars     2.49231e11   49.9699  1.84935   287.074   178.319\n",
       "   5 │ Jupiter  8.13271e11  100.995   1.29996   274.199   201.291\n",
       "   6 │ Saturn   1.45961e12  114.13    2.48649   339.976   244.635\n",
       "   7 │ Uranus   2.73642e12   74.2736  0.773671   97.2584   12.885\n",
       "   8 │ Neptune  4.45967e12  132.37    1.76502   272.728    17.6917"
      ]
     },
     "execution_count": 15,
     "metadata": {},
     "output_type": "execute_result"
    }
   ],
   "source": [
    "mtable = DataFrame(\"PLANET\" => [\"Mercury\", \"Venus\", \"Earth\", \"Mars\", \"Jupiter\", \"Saturn\", \"Uranus\", \"Neptune\"],\n",
    "\"R\" => [6.8469801847569176e10, 1.076024874372254e11, 1.5208381145385138e11, 2.4923140415851627e11, 8.132707862934507e11, 1.459605242508727e12, 2.7364233118704424e12, 4.459668990763222e12],\n",
    "\"Ω\" => [48.96554378692674, 77.1617374593507, 0.0, 49.9698527870441, 100.99517338890902, 114.13036750085416, 74.27363045974306, 132.37018115337153],\n",
    "\"i\" => [7.005677001215277, 3.395137350668403, 0.0, 1.849352187567361, 1.299957618215625, 2.4864877233725693, 0.7736712604618056, 1.7650172938020834],\n",
    "\"ω\" => [29.322321822565275, 55.161383132325696, 283.8606081346337, 287.074046506058, 274.1991431698385, 339.97553031748157, 97.2584408428993, 272.7283322735104],\n",
    "\"ν\" => [202.4890023559799, 34.100412699960394, 174.87303451576858, 178.31855079446123, 201.29148106429466, 244.63463230877008, 12.885027872632644, 17.69172404564677])"
   ]
  },
  {
   "cell_type": "code",
   "execution_count": 16,
   "metadata": {},
   "outputs": [
    {
     "data": {
      "text/plain": [
       "8-element Vector{Float64}:\n",
       " 231.81132417854516\n",
       "  89.26179583228608\n",
       " 458.7336426504023\n",
       " 465.39259730051924\n",
       " 475.4906242341332\n",
       " 584.6101626262516\n",
       " 110.14346871553195\n",
       " 290.42005631915714"
      ]
     },
     "execution_count": 16,
     "metadata": {},
     "output_type": "execute_result"
    }
   ],
   "source": [
    "mtable[!, \"SUM\"] = mtable[!, :ω] + mtable[!, :ν]"
   ]
  },
  {
   "cell_type": "code",
   "execution_count": 45,
   "metadata": {},
   "outputs": [
    {
     "data": {
      "text/plain": [
       "setRange2 (generic function with 1 method)"
      ]
     },
     "execution_count": 45,
     "metadata": {},
     "output_type": "execute_result"
    }
   ],
   "source": [
    "function setRange1(angle)\n",
    "    return mod((angle+180),360) - 180\n",
    "end\n",
    "\n",
    "function setRange2(angle)\n",
    "    c = cosd(angle)\n",
    "    s = sind(angle)\n",
    "    return atand(c,s)    \n",
    "end"
   ]
  },
  {
   "cell_type": "code",
   "execution_count": 46,
   "metadata": {},
   "outputs": [],
   "source": [
    "mtable[!,\"COS_SUM\"] = cosd.(mtable[!, \"SUM\"])\n",
    "mtable[!,\"SIN_SUM\"] = sind.(mtable[!, \"SUM\"])\n",
    ";"
   ]
  },
  {
   "cell_type": "code",
   "execution_count": 38,
   "metadata": {},
   "outputs": [],
   "source": [
    "mtable[!,\"XS\"] = CX.(mtable[!,:R], mtable[!, :Ω], mtable[!, :SUM], mtable[!, :i])\n",
    "mtable[!,\"YS\"] = CY.(mtable[!,:R], mtable[!, :Ω], mtable[!, :SUM], mtable[!, :i])\n",
    "mtable[!,\"ZS\"] = CZ.(mtable[!,:R], mtable[!, :SUM], mtable[!, :i])\n",
    ";"
   ]
  },
  {
   "cell_type": "code",
   "execution_count": 47,
   "metadata": {},
   "outputs": [],
   "source": [
    "mtable[!, \"setRange1\"] = setRange1.(mtable[!, :SUM])\n",
    "mtable[!,\"COS_setRange1\"] = cosd.(mtable[!, :setRange1])\n",
    "mtable[!,\"SIN_setRange1\"] = sind.(mtable[!, :setRange1])\n",
    "mtable[!,\"XSR1\"] = CX.(mtable[!,:R], mtable[!, :Ω], mtable[!, :setRange1], mtable[!, :i])\n",
    "mtable[!,\"YSR1\"] = CY.(mtable[!,:R], mtable[!, :Ω], mtable[!, :setRange1], mtable[!, :i])\n",
    "mtable[!,\"ZSR1\"] = CZ.(mtable[!,:R], mtable[!, :setRange1], mtable[!, :i])\n",
    ";"
   ]
  },
  {
   "cell_type": "code",
   "execution_count": 48,
   "metadata": {},
   "outputs": [],
   "source": [
    "mtable[!, \"setRange2\"] = setRange1.(mtable[!, :SUM])\n",
    "mtable[!,\"COS_setRange2\"] = cosd.(mtable[!, :setRange2])\n",
    "mtable[!,\"SIN_setRange2\"] = sind.(mtable[!, :setRange2])\n",
    "mtable[!,\"XSR2\"] = CX.(mtable[!,:R], mtable[!, :Ω], mtable[!, :setRange2], mtable[!, :i])\n",
    "mtable[!,\"YSR2\"] = CY.(mtable[!,:R], mtable[!, :Ω], mtable[!, :setRange2], mtable[!, :i])\n",
    "mtable[!,\"ZSR2\"] = CZ.(mtable[!,:R], mtable[!, :setRange2], mtable[!, :i])\n",
    ";"
   ]
  },
  {
   "cell_type": "code",
   "execution_count": 44,
   "metadata": {},
   "outputs": [
    {
     "name": "stdout",
     "output_type": "stream",
     "text": [
      "\u001b[1m8×24 DataFrame\u001b[0m\n",
      "\u001b[1m Row \u001b[0m│\u001b[1m PLANET  \u001b[0m\u001b[1m R          \u001b[0m\u001b[1m Ω        \u001b[0m\u001b[1m i        \u001b[0m\u001b[1m ω        \u001b[0m\u001b[1m ν        \u001b[0m\u001b[1m SUM      \u001b[0m\u001b[1m COS_SUM    \u001b[0m\u001b[1m SIN_SUM   \u001b[0m\u001b[1m XS          \u001b[0m\u001b[1m YS          \u001b[0m\u001b[1m ZS          \u001b[0m\u001b[1m setRange1 \u001b[0m\u001b[1m COS_setRange1 \u001b[0m\u001b[1m SIN_setRange1 \u001b[0m\u001b[1m XSR1        \u001b[0m\u001b[1m YSR1        \u001b[0m\u001b[1m ZSR1        \u001b[0m\u001b[1m setRange2 \u001b[0m\u001b[1m COS_setRange2 \u001b[0m\u001b[1m SIN_setRange2 \u001b[0m\u001b[1m XSR2        \u001b[0m\u001b[1m YSR2        \u001b[0m\u001b[1m ZSR2        \u001b[0m\n",
      "\u001b[1m     \u001b[0m│\u001b[90m String  \u001b[0m\u001b[90m Float64    \u001b[0m\u001b[90m Float64  \u001b[0m\u001b[90m Float64  \u001b[0m\u001b[90m Float64  \u001b[0m\u001b[90m Float64  \u001b[0m\u001b[90m Float64  \u001b[0m\u001b[90m Float64    \u001b[0m\u001b[90m Float64   \u001b[0m\u001b[90m Float64     \u001b[0m\u001b[90m Float64     \u001b[0m\u001b[90m Float64     \u001b[0m\u001b[90m Float64   \u001b[0m\u001b[90m Float64       \u001b[0m\u001b[90m Float64       \u001b[0m\u001b[90m Float64     \u001b[0m\u001b[90m Float64     \u001b[0m\u001b[90m Float64     \u001b[0m\u001b[90m Float64   \u001b[0m\u001b[90m Float64       \u001b[0m\u001b[90m Float64       \u001b[0m\u001b[90m Float64     \u001b[0m\u001b[90m Float64     \u001b[0m\u001b[90m Float64     \u001b[0m\n",
      "─────┼─────────────────────────────────────────────────────────────────────────────────────────────────────────────────────────────────────────────────────────────────────────────────────────────────────────────────────────────────────────────────────────────────────────────────────────────────────\n",
      "   1 │ Mercury  6.84698e10   48.9655  7.00568    29.3223  202.489   231.811   -0.618253   -0.785979   1.24997e10  -6.69984e10  -6.56379e9   -128.189      -0.618253       -0.785979   1.24997e10  -6.69984e10  -6.56379e9   -128.189      -0.618253       -0.785979   1.24997e10  -6.69984e10  -6.56379e9\n",
      "   2 │ Venus    1.07602e11   77.1617  3.39514    55.1614   34.1004   89.2618   0.0128837   0.999917  -1.04412e11   2.5217e10    6.37187e9     89.2618      0.0128837       0.999917  -1.04412e11   2.5217e10    6.37187e9     89.2618      0.0128837       0.999917  -1.04412e11   2.5217e10    6.37187e9\n",
      "   3 │ Earth    1.52084e11    0.0     0.0       283.861   174.873   458.734   -0.151841    0.988405  -2.30926e10   1.5032e11    0.0           98.7336     -0.151841        0.988405  -2.30926e10   1.5032e11    0.0           98.7336     -0.151841        0.988405  -2.30926e10   1.5032e11    0.0\n",
      "   4 │ Mars     2.49231e11   49.9699  1.84935   287.074   178.319   465.393   -0.265432    0.96413   -2.26446e11   1.03818e11   7.75461e9    105.393      -0.265432        0.96413   -2.26446e11   1.03818e11   7.75461e9    105.393      -0.265432        0.96413   -2.26446e11   1.03818e11   7.75461e9\n",
      "   5 │ Jupiter  8.13271e11  100.995   1.29996   274.199   201.291   475.491   -0.430363    0.902656  -6.53688e11  -4.83554e11   1.66543e10   115.491      -0.430363        0.902656  -6.53688e11  -4.83554e11   1.66543e10   115.491      -0.430363        0.902656  -6.53688e11  -4.83554e11   1.66543e10\n",
      "   6 │ Saturn   1.45961e12  114.13    2.48649   339.976   244.635   584.61    -0.711901   -0.702279   1.3594e12   -5.29636e11  -4.44706e10  -135.39       -0.711901       -0.702279   1.3594e12   -5.29636e11  -4.44706e10  -135.39       -0.711901       -0.702279   1.3594e12   -5.29636e11  -4.44706e10\n",
      "   7 │ Uranus   2.73642e12   74.2736  0.773671   97.2584   12.885   110.143   -0.344372    0.938833  -2.72807e12  -2.10813e11   3.4689e10    110.143      -0.344372        0.938833  -2.72807e12  -2.10813e11   3.4689e10    110.143      -0.344372        0.938833  -2.72807e12  -2.10813e11   3.4689e10\n",
      "   8 │ Neptune  4.45967e12  132.37    1.76502   272.728    17.6917  290.42     0.3489     -0.93716    2.03772e12   3.96482e12  -1.28728e11   -69.5799      0.3489         -0.93716    2.03772e12   3.96482e12  -1.28728e11   -69.5799      0.3489         -0.93716    2.03772e12   3.96482e12  -1.28728e11"
     ]
    }
   ],
   "source": [
    "show(mtable, allcols=true)"
   ]
  },
  {
   "cell_type": "code",
   "execution_count": null,
   "metadata": {},
   "outputs": [],
   "source": []
  }
 ],
 "metadata": {
  "kernelspec": {
   "display_name": "Julia 1.7.3",
   "language": "julia",
   "name": "julia-1.7"
  },
  "language_info": {
   "file_extension": ".jl",
   "mimetype": "application/julia",
   "name": "julia",
   "version": "1.7.3"
  },
  "orig_nbformat": 4
 },
 "nbformat": 4,
 "nbformat_minor": 2
}
