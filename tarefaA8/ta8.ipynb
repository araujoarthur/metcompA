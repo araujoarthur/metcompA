{
 "cells": [
  {
   "cell_type": "markdown",
   "metadata": {},
   "source": [
    "# Tarefa Aula 8\n",
    "## &nbsp;&nbsp;&nbsp;Jogando Dados\n",
    "&nbsp;&nbsp;&nbsp;&nbsp;&nbsp;Nome: Arthur Araujo Galdino dos Santos\n",
    "\n",
    "&nbsp;&nbsp;&nbsp;&nbsp;&nbsp;Disponível em: URL"
   ]
  },
  {
   "cell_type": "code",
   "execution_count": 89,
   "metadata": {},
   "outputs": [],
   "source": [
    "# Including packages\n",
    "using Random, Statistics, DataFrames, PlotlyJS"
   ]
  },
  {
   "cell_type": "code",
   "execution_count": 77,
   "metadata": {},
   "outputs": [
    {
     "name": "stdout",
     "output_type": "stream",
     "text": [
      "5.4\n",
      "2.2705848487901865\n",
      "2.2705848487901865\n"
     ]
    }
   ],
   "source": [
    "\"\"\"\n",
    " roll() : Outputs Integer\n",
    " Roll a dice and outputs the rolled value; \n",
    "\"\"\"\n",
    "function roll()\n",
    "    output =  rand(1:6)\n",
    "    return output\n",
    "end\n",
    "\n",
    "\"\"\"\n",
    "⚀(::Integer) : Outputs Vector{Int}\n",
    "\n",
    "Receives an integer number of times to throw both dices and returns the sum of sides for each roll.\n",
    "\"\"\"\n",
    "function ⚀(n::Integer) # \\dicei\n",
    "    out = Vector{Integer}()\n",
    "    for i in 1:n\n",
    "        X1 = roll()\n",
    "        X2 = roll()\n",
    "        push!(out, X1+X2)\n",
    "    end\n",
    "\n",
    "    return out\n",
    "end\n",
    "\n",
    "function med(Y::Vector{Integer})\n",
    "    return sum(Y)/length(Y)\n",
    "end\n",
    "\n",
    "function desv(Y::Vector{Integer}, dof::Integer=0)\n",
    "    mean_y = med(Y)\n",
    "    desv = sqrt(sum((Y .- mean_y) .^ 2) * (1/(length(Y)-dof)))\n",
    "    return desv\n",
    "end\n",
    ";"
   ]
  },
  {
   "cell_type": "code",
   "execution_count": 87,
   "metadata": {},
   "outputs": [
    {
     "name": "stdout",
     "output_type": "stream",
     "text": [
      "Calculated Mean: 6.987 \n",
      "Julia Mean: 6.987 \n",
      "Calculated STD (NO DOF CORRECTION): 2.436150857397793 \n",
      "Calculated STD (N-1 DOF): 2.4373698471450274 \n",
      "Julia STD: 2.4373698471450265\n"
     ]
    }
   ],
   "source": [
    "rolls = 1000\n",
    "\n",
    "rolls_result = ⚀(rolls)\n",
    "self_med = med(rolls_result)\n",
    "jul_med = mean(rolls_result)\n",
    "self_desv = desv(rolls_result)\n",
    "self_desv_dof = desv(rolls_result, 1)\n",
    "jul_desv = std(rolls_result)\n",
    "\n",
    "println(\"Calculated Mean: $self_med \\nJulia Mean: $jul_med \\nCalculated STD (NO DOF CORRECTION): $self_desv \\nCalculated STD (N-1 DOF): $self_desv_dof \\nJulia STD: $jul_desv\")"
   ]
  },
  {
   "cell_type": "code",
   "execution_count": 91,
   "metadata": {},
   "outputs": [
    {
     "data": {
      "text/plain": [
       "Dict{Integer, Integer}()"
      ]
     },
     "execution_count": 91,
     "metadata": {},
     "output_type": "execute_result"
    }
   ],
   "source": [
    "countSums = Dict{Integer, Integer}()\n",
    "\n",
    "for i ∈ rolls_result\n",
    "    if !haskey(countSums, i)\n",
    "        countSums[i] = 1\n",
    "    else\n",
    "        countSums[i] += 1\n",
    "    end\n",
    "end"
   ]
  },
  {
   "cell_type": "markdown",
   "metadata": {},
   "source": [
    "#### POC of `roll()` function"
   ]
  },
  {
   "cell_type": "code",
   "execution_count": 46,
   "metadata": {},
   "outputs": [
    {
     "name": "stdout",
     "output_type": "stream",
     "text": [
      "Dict{Integer, Integer}(5 => 16829, 4 => 16875, 6 => 16526, 2 => 16593, 3 => 16714, 1 => 16463)\n",
      "Dict{Integer, Float64}(5 => 16.829, 4 => 16.875, 6 => 16.526, 2 => 16.593, 3 => 16.714, 1 => 16.463)\n"
     ]
    }
   ],
   "source": [
    "dictRet = Dict{Integer, Integer}()\n",
    "\n",
    "for i ∈ 1:100000\n",
    "    ret = roll()\n",
    "    if !haskey(dictRet, ret)\n",
    "        dictRet[ret] = 1\n",
    "    else\n",
    "        dictRet[ret] += 1\n",
    "    end\n",
    "end\n",
    "\n",
    "println(dictRet)\n",
    "\n",
    "dictPercent = Dict{Integer,Float64}([])\n",
    "for (k,v) ∈ dictRet\n",
    "    dictPercent[k] = dictRet[k]*0.001\n",
    "end\n",
    "\n",
    "println(dictPercent)\n",
    "\n",
    ";"
   ]
  },
  {
   "cell_type": "code",
   "execution_count": null,
   "metadata": {},
   "outputs": [],
   "source": []
  }
 ],
 "metadata": {
  "kernelspec": {
   "display_name": "Julia 1.7.3",
   "language": "julia",
   "name": "julia-1.7"
  },
  "language_info": {
   "file_extension": ".jl",
   "mimetype": "application/julia",
   "name": "julia",
   "version": "1.7.3"
  },
  "orig_nbformat": 4
 },
 "nbformat": 4,
 "nbformat_minor": 2
}
